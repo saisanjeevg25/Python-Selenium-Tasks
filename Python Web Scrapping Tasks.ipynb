{
 "cells": [
  {
   "cell_type": "markdown",
   "id": "30561108",
   "metadata": {},
   "source": [
    "Python Selenium Tasks"
   ]
  },
  {
   "cell_type": "code",
   "execution_count": null,
   "id": "ef375922",
   "metadata": {},
   "outputs": [],
   "source": [
    "from selenium import webdriver\n",
    "from selenium.webdriver.support.ui import Select\n",
    "import pandas as pd\n",
    "import time"
   ]
  },
  {
   "cell_type": "markdown",
   "id": "e3c40d0e",
   "metadata": {},
   "source": [
    "Task1: Get All Info From States Map"
   ]
  },
  {
   "cell_type": "code",
   "execution_count": null,
   "id": "ff695fb1",
   "metadata": {},
   "outputs": [],
   "source": [
    "driverPath = r\"D:\\Delta Training\\Python Training\\chromedriver.exe\"\n",
    "driver = webdriver.Chrome(executable_path=driverPath)\n",
    "driver.get(\"https://ai.fmcsa.dot.gov/hhg/Search.asp?ads=a\")\n",
    "l=[]\n",
    "c=[]\n",
    "p=[]\n",
    "w=[]\n",
    "z=[]\n",
    "xn=[]\n",
    "s=driver.find_elements_by_xpath(\"//tbody/tr[2]/td[1]/map[1]//following::area['alt']\")\n",
    "for nnm in s:\n",
    "    xn.append(nnm.text)\n",
    "for i in range(1,len(s)+1):\n",
    "    try:\n",
    "            a=driver.find_elements_by_xpath(\"//body[1]/table[1]/tbody[1]/tr[3]/td[1]/table[1]/tbody[1]/tr[2]/td[3]/table[1]/tbody[1]/tr[8]/td[1]/table[1]/tbody[1]/tr[2]/td[1]//following::a\")\n",
    "            for j in range(2,len(a)-10):\n",
    "                d=driver.find_elements_by_xpath(\"//body[1]/table[1]/tbody[1]/tr[3]/td[1]/table[1]/tbody[1]/tr[2]/td[3]/table[1]/tbody[1]/tr[8]/td[1]/table[1]/tbody[1]/tr[{}]/td[1]\".format(j))\n",
    "                b=driver.find_elements_by_xpath(\"//body[1]/table[1]/tbody[1]/tr[3]/td[1]/table[1]/tbody[1]/tr[2]/td[3]/table[1]/tbody[1]/tr[8]/td[1]/table[1]/tbody[1]/tr[{}]/td[2]\".format(j))\n",
    "                t=driver.find_elements_by_xpath(\"//body[1]/table[1]/tbody[1]/tr[3]/td[1]/table[1]/tbody[1]/tr[2]/td[3]/table[1]/tbody[1]/tr[8]/td[1]/table[1]/tbody[1]/tr[{}]/td[3]\".format(j))\n",
    "                u=driver.find_elements_by_xpath(\"//tbody/tr[{}]/td[4]\".format(j))\n",
    "                for n in d:\n",
    "                    p.append(n.text)\n",
    "                for m in b:\n",
    "                    c.append(m.text)\n",
    "                for x in t:\n",
    "                    w.append(x.text)\n",
    "                for v in u:\n",
    "                    z.append(v.text)\n",
    "            time.sleep(2)\n",
    "            driver.back()\n",
    "            driver.refresh()\n",
    "            df=pd.DataFrame(list(zip(p,c,w,z)), columns =[\"Company Name\",\"Headquarters Location\",\"Company Type\",\"Fleet Size\"])\n",
    "            df.to_excel(r\"D:\\Delta Training\\Python Training\\PythonTasks\"+\"\\\\\"+\"State{}.xlsx\".format(i), index = False)\n",
    "            p.clear()\n",
    "            c.clear()\n",
    "            w.clear()\n",
    "            z.clear()\n",
    "            del df\n",
    "        driver.close()\n",
    "    except:\n",
    "        pass"
   ]
  },
  {
   "cell_type": "markdown",
   "id": "d14ba30b",
   "metadata": {},
   "source": [
    "Task 2: Cricbuzz All Country images"
   ]
  },
  {
   "cell_type": "code",
   "execution_count": null,
   "id": "1fc860bc",
   "metadata": {},
   "outputs": [],
   "source": [
    "driver = webdriver.Chrome(executable_path=driverPath)\n",
    "driver.get(\"https://www.cricbuzz.com/\")\n",
    "driver.maximize_window()\n",
    "driver.find_element_by_xpath(\"/html[1]/body[1]/header[1]/div[1]/nav[1]/div[3]/a[1]\").click()\n",
    "time.sleep(1)\n",
    "country = driver.find_elements_by_xpath(\"//body/div[1]/div[2]/div[5]/div[1]\")\n",
    "c = []\n",
    "for i in country:\n",
    "    c.append(i.text)\n",
    "Countries=c[0].split(\"\\n\")\n",
    "driver.get(\"https://www.cricbuzz.com/cricket-team\")\n",
    "for j in range(1,len(Countries)+1):\n",
    "    s=Countries[j-1]\n",
    "    with open(r\"D:\\Delta Training\\Python Training\\PythonTasks2\\{}.png\".format(s),\"wb\") as fl:\n",
    "        i=driver.find_element_by_xpath(\"//h1[contains(text(), 'Cricket Teams')]//following::img[{}]\".format(j))\n",
    "        fl.write(i.screenshot_as_png)  \n",
    "driver.close()"
   ]
  },
  {
   "cell_type": "markdown",
   "id": "ff323335",
   "metadata": {},
   "source": [
    "Task3: Cricbuzz Rankings"
   ]
  },
  {
   "cell_type": "code",
   "execution_count": null,
   "id": "d9bcbf3c",
   "metadata": {},
   "outputs": [],
   "source": [
    "driverPath = r\"D:\\Delta Training\\Python Training\\chromedriver.exe\"\n",
    "driver= webdriver.Chrome(executable_path=driverPath)\n",
    "driver.get(\"https://www.cricbuzz.com/\")\n",
    "driver.maximize_window()\n",
    "driver.find_element_by_xpath(\"//div[@id='rankingDropDown']\").click()\n",
    "l=['batsmen','bowlers','all-rounders','teams']\n",
    "m=['TEST','ODI','T20']\n",
    "d=[]\n",
    "for i in l:\n",
    "    writer=pd.ExcelWriter(r\"D:\\Delta Training\\Python Training\\PythonTasks3\"+\"\\\\\"+\"{}.xlsx\".format(i),engine='xlsxwriter')\n",
    "    driver.find_element_by_xpath(\"//a[@id='\"+i+\"-tab']\").click()\n",
    "    driver.implicitly_wait(2)\n",
    "    for j in m:\n",
    "        if i==\"all-rounders\":\n",
    "            driver.find_element_by_link_text(j).click()\n",
    "            c = driver.find_elements_by_xpath(\"//a[@id='\"+i.replace('-','')+\"-tests-tab']//following::div[contains(@class,'cb-col cb-col-100 cb-font-14 cb-lst-itm text-center')]\")\n",
    "        elif i==\"teams\":\n",
    "            driver.find_element_by_link_text(j).click()\n",
    "            c = driver.find_elements_by_xpath(\"//div[contains(@class,'cb-col cb-col-100 cb-font-14 cb-brdr-thin-btm text-center')]\")\n",
    "            d.clear()\n",
    "            for k in c:\n",
    "                if k.text !='':\n",
    "                    d.append(k.text.split(\"\\n\"))\n",
    "            df=pd.DataFrame(d,columns=[\"POSITION\",\"TEAM\",\"RATING\",\"POINTS\"])\n",
    "            df.to_excel(writer,sheet_name=i+\"_\"+j, index=False)\n",
    "            continue\n",
    "        else:\n",
    "            driver.find_element_by_link_text(j).click()\n",
    "            c = driver.find_elements_by_xpath(\"//a[@id='\"+i+\"-tests-tab']//following::div[contains(@class,'cb-col cb-col-100 cb-font-14 cb-lst-itm text-center')]\")\n",
    "        d.clear()\n",
    "        for k in c:\n",
    "            if k.text !='':\n",
    "                d.append(k.text.split(\"\\n\"))\n",
    "        df=pd.DataFrame(d,columns=[\"POSITION\",\"NAN\",\"PLAYER\",\"COUNTRY\",\"RATING\"])\n",
    "        df.drop(columns=[\"NAN\"],axis=\"columns\",inplace=True)\n",
    "        df.to_excel(writer,sheet_name=i+\"_\"+j, index=False)\n",
    "    writer.save()\n",
    "    writer.close()\n",
    "driver.close()"
   ]
  },
  {
   "cell_type": "markdown",
   "id": "261821de",
   "metadata": {},
   "source": [
    "Task4: Get All info from states dropdown"
   ]
  },
  {
   "cell_type": "code",
   "execution_count": null,
   "id": "1d8705e9",
   "metadata": {},
   "outputs": [],
   "source": [
    "driverPath = r\"D:\\Delta Training\\Python Training\\chromedriver.exe\"\n",
    "driver = webdriver.Chrome(executable_path=driverPath)\n",
    "driver.get(\"https://ai.fmcsa.dot.gov/hhg/Search.asp?ads=a\")\n",
    "c=[]\n",
    "p=[]\n",
    "w=[]\n",
    "z=[]\n",
    "driver.find_element_by_xpath(\"//label[contains(text(),'State')]//following::select[1]\").click()\n",
    "for i in range(1,97):\n",
    "    driver.find_element_by_xpath(\"//label[contains(text(),'State')]//following::select[1]\").click()\n",
    "    driver.find_element_by_xpath(\"//option[contains(text(),'Please select state')]//following::option[1]\").click()\n",
    "    cnm= driver.find_element_by_xpath(\"//option[contains(text(),'Please select state')]//following::option[1]\").text;\n",
    "    driver.find_element_by_xpath(\"//tbody/tr[1]/td[2]/input[3]\").click()\n",
    "    a=driver.find_elements_by_xpath(\"//body[1]/table[1]/tbody[1]/tr[3]/td[1]/table[1]/tbody[1]/tr[2]/td[3]/table[1]/tbody[1]/tr[8]/td[1]/table[1]/tbody[1]/tr[2]/td[1]//following::a\")\n",
    "    for j in range(2,len(a)-10):\n",
    "        d=driver.find_elements_by_xpath(\"//body[1]/table[1]/tbody[1]/tr[3]/td[1]/table[1]/tbody[1]/tr[2]/td[3]/table[1]/tbody[1]/tr[8]/td[1]/table[1]/tbody[1]/tr[{}]/td[1]\".format(j))\n",
    "        b=driver.find_elements_by_xpath(\"//body[1]/table[1]/tbody[1]/tr[3]/td[1]/table[1]/tbody[1]/tr[2]/td[3]/table[1]/tbody[1]/tr[8]/td[1]/table[1]/tbody[1]/tr[{}]/td[2]\".format(j))\n",
    "        t=driver.find_elements_by_xpath(\"//body[1]/table[1]/tbody[1]/tr[3]/td[1]/table[1]/tbody[1]/tr[2]/td[3]/table[1]/tbody[1]/tr[8]/td[1]/table[1]/tbody[1]/tr[{}]/td[3]\".format(j))\n",
    "        u=driver.find_elements_by_xpath(\"//tbody/tr[{}]/td[4]\".format(j))\n",
    "        for n in d:\n",
    "            p.append(n.text)\n",
    "        for m in b:\n",
    "            c.append(m.text)\n",
    "        for x in t:\n",
    "            w.append(x.text)\n",
    "        for v in u:\n",
    "            z.append(v.text)\n",
    "    time.sleep(2)\n",
    "    driver.back()\n",
    "    df=pd.DataFrame(list(zip(p,c,w,z)), columns =[\"Company Name\",\"Headquarters Location\",\"Company Type\",\"Fleet Size\"])\n",
    "    df.to_excel(r\"D:\\Delta Training\\Python Training\\PythonTasks4\"+\"\\\\\"+\"State{}.xlsx\".format(cnm), index = False)\n",
    "    p.clear()\n",
    "    c.clear()\n",
    "    w.clear()\n",
    "    z.clear()\n",
    "    del df\n",
    "driver.close()"
   ]
  }
 ],
 "metadata": {
  "kernelspec": {
   "display_name": "Python 3",
   "language": "python",
   "name": "python3"
  },
  "language_info": {
   "codemirror_mode": {
    "name": "ipython",
    "version": 3
   },
   "file_extension": ".py",
   "mimetype": "text/x-python",
   "name": "python",
   "nbconvert_exporter": "python",
   "pygments_lexer": "ipython3",
   "version": "3.8.8"
  }
 },
 "nbformat": 4,
 "nbformat_minor": 5
}
